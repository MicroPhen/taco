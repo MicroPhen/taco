{
 "cells": [
  {
   "cell_type": "markdown",
   "metadata": {},
   "source": [
    "In this example, we run the whole TACO workflow for the LrP biosensor screening as described in the manuscript."
   ]
  },
  {
   "cell_type": "code",
   "execution_count": 1,
   "metadata": {},
   "outputs": [],
   "source": [
    "import pathlib\n",
    "import json\n",
    "import pandas as pd\n",
    "\n",
    "import taco\n",
    "from taco.multina import analyze_multina_data\n",
    "from taco.conjugation import ConjugationProject"
   ]
  },
  {
   "cell_type": "markdown",
   "metadata": {},
   "source": [
    "In the first steps, a TACO project is created. It can then be used to generate a template file, in which the researcher can put information about the constructs to be generated."
   ]
  },
  {
   "cell_type": "code",
   "execution_count": 2,
   "metadata": {},
   "outputs": [],
   "source": [
    "tp = taco.create_project('lrp-lib')"
   ]
  },
  {
   "cell_type": "code",
   "execution_count": 3,
   "metadata": {},
   "outputs": [],
   "source": [
    "tp.generate_construct_template(\n",
    "    filename=pathlib.Path('templates', 'constructs_info_template.xlsx'), \n",
    "    properties=['backbone', 'primerA', 'primerB'],\n",
    ")"
   ]
  },
  {
   "cell_type": "markdown",
   "metadata": {},
   "source": [
    "After the information was added, the template can be parsed into the TACO project. From there, a template for counting clones is generated."
   ]
  },
  {
   "cell_type": "code",
   "execution_count": 4,
   "metadata": {
    "tags": []
   },
   "outputs": [
    {
     "name": "stdout",
     "output_type": "stream",
     "text": [
      "96 constructs added to the project. 0 duplicates were skipped.\n"
     ]
    }
   ],
   "source": [
    "tp.read_construct_input(pathlib.Path('results', 'constructs_info.xlsx'))"
   ]
  },
  {
   "cell_type": "code",
   "execution_count": 5,
   "metadata": {},
   "outputs": [],
   "source": [
    "tp.generate_transformation_template(pathlib.Path('templates', 'clone_counting_template.xlsx'))"
   ]
  },
  {
   "cell_type": "markdown",
   "metadata": {},
   "source": [
    "After counting the clones, data can be added to the project and another template for colony PCR can be generated."
   ]
  },
  {
   "cell_type": "code",
   "execution_count": 6,
   "metadata": {},
   "outputs": [
    {
     "name": "stdout",
     "output_type": "stream",
     "text": [
      "273 clones were added to the project.\n"
     ]
    }
   ],
   "source": [
    "tp.read_transformation_input(pathlib.Path('results', 'clone_counting.xlsx'))"
   ]
  },
  {
   "cell_type": "code",
   "execution_count": 7,
   "metadata": {},
   "outputs": [],
   "source": [
    "tp.generate_pcr_template(\n",
    "    filename=pathlib.Path('templates', 'colonypcr_template.xlsx'),\n",
    "    max_clones=4, use_mtp=True,\n",
    ")"
   ]
  },
  {
   "cell_type": "markdown",
   "metadata": {},
   "source": [
    "After performing colony PCR, we utilize a TACO plugin-in for analysis of MultiNA data to check if our DNA fragement sizes are within the expected range. The results are then added to the project."
   ]
  },
  {
   "cell_type": "code",
   "execution_count": 8,
   "metadata": {},
   "outputs": [
    {
     "name": "stdout",
     "output_type": "stream",
     "text": [
      "184 clones were analyzed. PCR from 176 clones yielded a fragment within target length ± 10.0.\n"
     ]
    }
   ],
   "source": [
    "analyze_multina_data(\n",
    "    datafiles={\n",
    "        1: pathlib.Path('results', 'colPCR1_results.csv'), \n",
    "        2: pathlib.Path('results', 'colPCR2_results.csv'),\n",
    "    }, \n",
    "    templatefile=pathlib.Path('templates', 'colonypcr_template.xlsx'),\n",
    "    targetfile=pathlib.Path('templates', 'colony_pcr_target_lengths.xlsx'),\n",
    "    resultfile=pathlib.Path('results', 'colony_pcr_results.xlsx'),\n",
    "    window=20,\n",
    ")"
   ]
  },
  {
   "cell_type": "code",
   "execution_count": 9,
   "metadata": {},
   "outputs": [
    {
     "name": "stdout",
     "output_type": "stream",
     "text": [
      "PCR data for 184 clones added\n"
     ]
    }
   ],
   "source": [
    "tp.read_pcr_input(pathlib.Path('results', 'colony_pcr_results.xlsx'))"
   ]
  },
  {
   "cell_type": "markdown",
   "metadata": {},
   "source": [
    "Sequencing results, if available, can also be added to the project."
   ]
  },
  {
   "cell_type": "code",
   "execution_count": 10,
   "metadata": {},
   "outputs": [
    {
     "name": "stdout",
     "output_type": "stream",
     "text": [
      "SEQ data for 45 clones added\n"
     ]
    }
   ],
   "source": [
    "# 'Custom' seq data, not generated in this Taco workflow since sequencing was done after conjugation\n",
    "tp.read_seq_input(pathlib.Path('results', 'sequencing_results.xlsx'))"
   ]
  },
  {
   "cell_type": "markdown",
   "metadata": {},
   "source": [
    "The function `store_clones` can be used to define positions for each clone, to be used as a template for preparing storage plates. The researcher can decide to only store validated clones, i.e., with positive colony PCR, positive sequencing result, or both. The function `get_validated_clones` can be used to show such clones."
   ]
  },
  {
   "cell_type": "code",
   "execution_count": 11,
   "metadata": {},
   "outputs": [],
   "source": [
    "tp.store_clones(pcr=True, seq=False)"
   ]
  },
  {
   "cell_type": "code",
   "execution_count": 12,
   "metadata": {},
   "outputs": [
    {
     "data": {
      "text/html": [
       "<div>\n",
       "<style scoped>\n",
       "    .dataframe tbody tr th:only-of-type {\n",
       "        vertical-align: middle;\n",
       "    }\n",
       "\n",
       "    .dataframe tbody tr th {\n",
       "        vertical-align: top;\n",
       "    }\n",
       "\n",
       "    .dataframe thead th {\n",
       "        text-align: right;\n",
       "    }\n",
       "</style>\n",
       "<table border=\"1\" class=\"dataframe\">\n",
       "  <thead>\n",
       "    <tr style=\"text-align: right;\">\n",
       "      <th></th>\n",
       "      <th>construct</th>\n",
       "      <th>backbone</th>\n",
       "      <th>primerA</th>\n",
       "      <th>primerB</th>\n",
       "      <th>clone</th>\n",
       "      <th>agar_plate_number</th>\n",
       "      <th>agar_plate_position</th>\n",
       "      <th>pcr_result</th>\n",
       "      <th>seq_result</th>\n",
       "      <th>storage_plate_number</th>\n",
       "      <th>storage_plate_position</th>\n",
       "    </tr>\n",
       "  </thead>\n",
       "  <tbody>\n",
       "    <tr>\n",
       "      <th>97</th>\n",
       "      <td>pEC-Tmob18_Lrp_eYFP_p225_231</td>\n",
       "      <td>pEC-Tmob18_Lrp_eYFP</td>\n",
       "      <td>225</td>\n",
       "      <td>231</td>\n",
       "      <td>pEC-Tmob18_Lrp_eYFP_p225_231_1</td>\n",
       "      <td>4.0</td>\n",
       "      <td>7.0</td>\n",
       "      <td>success</td>\n",
       "      <td>success</td>\n",
       "      <td>1.0</td>\n",
       "      <td>B7</td>\n",
       "    </tr>\n",
       "    <tr>\n",
       "      <th>239</th>\n",
       "      <td>pEC-Tmob18_Lrp_eYFP_p226_236</td>\n",
       "      <td>pEC-Tmob18_Lrp_eYFP</td>\n",
       "      <td>226</td>\n",
       "      <td>236</td>\n",
       "      <td>pEC-Tmob18_Lrp_eYFP_p226_236_1</td>\n",
       "      <td>9.0</td>\n",
       "      <td>8.0</td>\n",
       "      <td>success</td>\n",
       "      <td>None</td>\n",
       "      <td>2.0</td>\n",
       "      <td>F5</td>\n",
       "    </tr>\n",
       "    <tr>\n",
       "      <th>186</th>\n",
       "      <td>pEC-Tmob18_Lrp_eYFP_p221_235</td>\n",
       "      <td>pEC-Tmob18_Lrp_eYFP</td>\n",
       "      <td>221</td>\n",
       "      <td>235</td>\n",
       "      <td>pEC-Tmob18_Lrp_eYFP_p221_235_1</td>\n",
       "      <td>8.0</td>\n",
       "      <td>3.0</td>\n",
       "      <td>success</td>\n",
       "      <td>None</td>\n",
       "      <td>2.0</td>\n",
       "      <td>B2</td>\n",
       "    </tr>\n",
       "    <tr>\n",
       "      <th>78</th>\n",
       "      <td>pEC-Tmob18_Lrp_eYFP_p221_231</td>\n",
       "      <td>pEC-Tmob18_Lrp_eYFP</td>\n",
       "      <td>221</td>\n",
       "      <td>231</td>\n",
       "      <td>pEC-Tmob18_Lrp_eYFP_p221_231_2</td>\n",
       "      <td>4.0</td>\n",
       "      <td>3.0</td>\n",
       "      <td>success</td>\n",
       "      <td>success</td>\n",
       "      <td>1.0</td>\n",
       "      <td>B6</td>\n",
       "    </tr>\n",
       "    <tr>\n",
       "      <th>76</th>\n",
       "      <td>pEC-Tmob18_Lrp_eYFP_p220_231</td>\n",
       "      <td>pEC-Tmob18_Lrp_eYFP</td>\n",
       "      <td>220</td>\n",
       "      <td>231</td>\n",
       "      <td>pEC-Tmob18_Lrp_eYFP_p220_231_4</td>\n",
       "      <td>4.0</td>\n",
       "      <td>2.0</td>\n",
       "      <td>success</td>\n",
       "      <td>None</td>\n",
       "      <td>1.0</td>\n",
       "      <td>H5</td>\n",
       "    </tr>\n",
       "  </tbody>\n",
       "</table>\n",
       "</div>"
      ],
      "text/plain": [
       "                        construct             backbone  primerA  primerB  \\\n",
       "97   pEC-Tmob18_Lrp_eYFP_p225_231  pEC-Tmob18_Lrp_eYFP      225      231   \n",
       "239  pEC-Tmob18_Lrp_eYFP_p226_236  pEC-Tmob18_Lrp_eYFP      226      236   \n",
       "186  pEC-Tmob18_Lrp_eYFP_p221_235  pEC-Tmob18_Lrp_eYFP      221      235   \n",
       "78   pEC-Tmob18_Lrp_eYFP_p221_231  pEC-Tmob18_Lrp_eYFP      221      231   \n",
       "76   pEC-Tmob18_Lrp_eYFP_p220_231  pEC-Tmob18_Lrp_eYFP      220      231   \n",
       "\n",
       "                              clone  agar_plate_number  agar_plate_position  \\\n",
       "97   pEC-Tmob18_Lrp_eYFP_p225_231_1                4.0                  7.0   \n",
       "239  pEC-Tmob18_Lrp_eYFP_p226_236_1                9.0                  8.0   \n",
       "186  pEC-Tmob18_Lrp_eYFP_p221_235_1                8.0                  3.0   \n",
       "78   pEC-Tmob18_Lrp_eYFP_p221_231_2                4.0                  3.0   \n",
       "76   pEC-Tmob18_Lrp_eYFP_p220_231_4                4.0                  2.0   \n",
       "\n",
       "    pcr_result seq_result  storage_plate_number storage_plate_position  \n",
       "97     success    success                   1.0                     B7  \n",
       "239    success       None                   2.0                     F5  \n",
       "186    success       None                   2.0                     B2  \n",
       "78     success    success                   1.0                     B6  \n",
       "76     success       None                   1.0                     H5  "
      ]
     },
     "execution_count": 12,
     "metadata": {},
     "output_type": "execute_result"
    }
   ],
   "source": [
    "tp.get_validated_clones(pcr=True, seq=False).sample(5)"
   ]
  },
  {
   "cell_type": "markdown",
   "metadata": {},
   "source": [
    "For a conjugation process, we can derive a `ConjugationProject` from our `TacoProject`. The new project provides additional functionality to aid in the conjugation process and keeps the link between shuttle and target organism. Templates for the conjugation process and subsequent growth tests can be generated and the result added back to the project."
   ]
  },
  {
   "cell_type": "code",
   "execution_count": 13,
   "metadata": {},
   "outputs": [],
   "source": [
    "cp = ConjugationProject(tp)\n",
    "cp.generate_conjugation_template(\n",
    "    filename=pathlib.Path('templates', 'conjugation_template.xlsx'),\n",
    "    number_of_plates=1,\n",
    "    pcr_positive=True,\n",
    "    seq_positive=False)"
   ]
  },
  {
   "cell_type": "code",
   "execution_count": 14,
   "metadata": {},
   "outputs": [
    {
     "name": "stdout",
     "output_type": "stream",
     "text": [
      "384 conjugation clones were added to the project.\n"
     ]
    }
   ],
   "source": [
    "cp.read_conjugation_result(pathlib.Path('results', 'conjugation_results.xlsx'))"
   ]
  },
  {
   "cell_type": "code",
   "execution_count": 15,
   "metadata": {},
   "outputs": [],
   "source": [
    "cp.generate_growth_template(\n",
    "    filename=pathlib.Path('templates', 'growth_template.xlsx'),\n",
    "    max_clones=4, use_mtp=True\n",
    ")"
   ]
  },
  {
   "cell_type": "code",
   "execution_count": 16,
   "metadata": {},
   "outputs": [
    {
     "name": "stdout",
     "output_type": "stream",
     "text": [
      "Growth data for 220 clones added\n"
     ]
    }
   ],
   "source": [
    "cp.read_growth_input(filename=pathlib.Path('results', 'growth_results.xlsx'))"
   ]
  },
  {
   "cell_type": "code",
   "execution_count": 17,
   "metadata": {},
   "outputs": [],
   "source": [
    "cp.store_clones()"
   ]
  },
  {
   "cell_type": "code",
   "execution_count": 18,
   "metadata": {
    "scrolled": true
   },
   "outputs": [
    {
     "data": {
      "text/html": [
       "<div>\n",
       "<style scoped>\n",
       "    .dataframe tbody tr th:only-of-type {\n",
       "        vertical-align: middle;\n",
       "    }\n",
       "\n",
       "    .dataframe tbody tr th {\n",
       "        vertical-align: top;\n",
       "    }\n",
       "\n",
       "    .dataframe thead th {\n",
       "        text-align: right;\n",
       "    }\n",
       "</style>\n",
       "<table border=\"1\" class=\"dataframe\">\n",
       "  <thead>\n",
       "    <tr style=\"text-align: right;\">\n",
       "      <th></th>\n",
       "      <th>construct</th>\n",
       "      <th>clone</th>\n",
       "      <th>origin</th>\n",
       "      <th>conjugation_plate_number</th>\n",
       "      <th>conjugation_position</th>\n",
       "      <th>growth_result</th>\n",
       "      <th>storage_plate_number</th>\n",
       "      <th>storage_plate_position</th>\n",
       "    </tr>\n",
       "  </thead>\n",
       "  <tbody>\n",
       "    <tr>\n",
       "      <th>260</th>\n",
       "      <td>pEC-Tmob18_Lrp_eYFP_p225_235</td>\n",
       "      <td>pEC-Tmob18_Lrp_eYFP_p225_235_Conj_1</td>\n",
       "      <td>pEC-Tmob18_Lrp_eYFP_p225_235_1</td>\n",
       "      <td>1</td>\n",
       "      <td>B9</td>\n",
       "      <td>success</td>\n",
       "      <td>1.0</td>\n",
       "      <td>H5</td>\n",
       "    </tr>\n",
       "    <tr>\n",
       "      <th>289</th>\n",
       "      <td>pEC-Tmob18_Lrp_eYFP_p222_236</td>\n",
       "      <td>pEC-Tmob18_Lrp_eYFP_p222_236_Conj_2</td>\n",
       "      <td>pEC-Tmob18_Lrp_eYFP_p222_236_1</td>\n",
       "      <td>1</td>\n",
       "      <td>A10</td>\n",
       "      <td>success</td>\n",
       "      <td>1.0</td>\n",
       "      <td>E6</td>\n",
       "    </tr>\n",
       "    <tr>\n",
       "      <th>78</th>\n",
       "      <td>pEC-Tmob18_Lrp_eYFP_p220_231</td>\n",
       "      <td>pEC-Tmob18_Lrp_eYFP_p220_231_Conj_3</td>\n",
       "      <td>pEC-Tmob18_Lrp_eYFP_p220_231_1</td>\n",
       "      <td>1</td>\n",
       "      <td>D3</td>\n",
       "      <td>success</td>\n",
       "      <td>1.0</td>\n",
       "      <td>C2</td>\n",
       "    </tr>\n",
       "    <tr>\n",
       "      <th>240</th>\n",
       "      <td>pEC-Tmob18_Lrp_eYFP_p221_235</td>\n",
       "      <td>pEC-Tmob18_Lrp_eYFP_p221_235_Conj_1</td>\n",
       "      <td>pEC-Tmob18_Lrp_eYFP_p221_235_1</td>\n",
       "      <td>1</td>\n",
       "      <td>E8</td>\n",
       "      <td>success</td>\n",
       "      <td>1.0</td>\n",
       "      <td>D5</td>\n",
       "    </tr>\n",
       "    <tr>\n",
       "      <th>213</th>\n",
       "      <td>pEC-Tmob18_Lrp_eYFP_p224_234</td>\n",
       "      <td>pEC-Tmob18_Lrp_eYFP_p224_234_Conj_2</td>\n",
       "      <td>pEC-Tmob18_Lrp_eYFP_p224_234_1</td>\n",
       "      <td>1</td>\n",
       "      <td>F7</td>\n",
       "      <td>success</td>\n",
       "      <td>1.0</td>\n",
       "      <td>G4</td>\n",
       "    </tr>\n",
       "  </tbody>\n",
       "</table>\n",
       "</div>"
      ],
      "text/plain": [
       "                        construct                                clone  \\\n",
       "260  pEC-Tmob18_Lrp_eYFP_p225_235  pEC-Tmob18_Lrp_eYFP_p225_235_Conj_1   \n",
       "289  pEC-Tmob18_Lrp_eYFP_p222_236  pEC-Tmob18_Lrp_eYFP_p222_236_Conj_2   \n",
       "78   pEC-Tmob18_Lrp_eYFP_p220_231  pEC-Tmob18_Lrp_eYFP_p220_231_Conj_3   \n",
       "240  pEC-Tmob18_Lrp_eYFP_p221_235  pEC-Tmob18_Lrp_eYFP_p221_235_Conj_1   \n",
       "213  pEC-Tmob18_Lrp_eYFP_p224_234  pEC-Tmob18_Lrp_eYFP_p224_234_Conj_2   \n",
       "\n",
       "                             origin  conjugation_plate_number  \\\n",
       "260  pEC-Tmob18_Lrp_eYFP_p225_235_1                         1   \n",
       "289  pEC-Tmob18_Lrp_eYFP_p222_236_1                         1   \n",
       "78   pEC-Tmob18_Lrp_eYFP_p220_231_1                         1   \n",
       "240  pEC-Tmob18_Lrp_eYFP_p221_235_1                         1   \n",
       "213  pEC-Tmob18_Lrp_eYFP_p224_234_1                         1   \n",
       "\n",
       "    conjugation_position growth_result  storage_plate_number  \\\n",
       "260                   B9       success                   1.0   \n",
       "289                  A10       success                   1.0   \n",
       "78                    D3       success                   1.0   \n",
       "240                   E8       success                   1.0   \n",
       "213                   F7       success                   1.0   \n",
       "\n",
       "    storage_plate_position  \n",
       "260                     H5  \n",
       "289                     E6  \n",
       "78                      C2  \n",
       "240                     D5  \n",
       "213                     G4  "
      ]
     },
     "execution_count": 18,
     "metadata": {},
     "output_type": "execute_result"
    }
   ],
   "source": [
    "cp.get_validated_clones().sample(5)"
   ]
  },
  {
   "cell_type": "markdown",
   "metadata": {},
   "source": [
    "From the `TacoProject` as well as the `ConjugationProject` directed acyclic graphs (DAGs) can be generated. Those visualizations can aid in following the cloning process. Successfull \"cloning trails\" are highlighted."
   ]
  },
  {
   "cell_type": "code",
   "execution_count": 19,
   "metadata": {},
   "outputs": [
    {
     "data": {
      "image/svg+xml": [
       "<?xml version=\"1.0\" encoding=\"UTF-8\" standalone=\"no\"?>\r\n",
       "<!DOCTYPE svg PUBLIC \"-//W3C//DTD SVG 1.1//EN\"\r\n",
       " \"http://www.w3.org/Graphics/SVG/1.1/DTD/svg11.dtd\">\r\n",
       "<!-- Generated by graphviz version 2.44.1 (20200629.0846)\r\n",
       " -->\r\n",
       "<!-- Pages: 1 -->\r\n",
       "<svg width=\"802pt\" height=\"305pt\"\r\n",
       " viewBox=\"0.00 0.00 801.51 304.95\" xmlns=\"http://www.w3.org/2000/svg\" xmlns:xlink=\"http://www.w3.org/1999/xlink\">\r\n",
       "<g id=\"graph0\" class=\"graph\" transform=\"scale(1 1) rotate(0) translate(4 300.95)\">\r\n",
       "<polygon fill=\"white\" stroke=\"transparent\" points=\"-4,4 -4,-300.95 797.51,-300.95 797.51,4 -4,4\"/>\r\n",
       "<!-- pEC&#45;Tmob18_Lrp_eYFP_p222_229 -->\r\n",
       "<g id=\"node1\" class=\"node\">\r\n",
       "<title>pEC&#45;Tmob18_Lrp_eYFP_p222_229</title>\r\n",
       "<ellipse fill=\"none\" stroke=\"chartreuse\" stroke-width=\"4\" cx=\"251.93\" cy=\"-162.08\" rx=\"161.85\" ry=\"48.17\"/>\r\n",
       "<text text-anchor=\"middle\" x=\"251.93\" y=\"-180.88\" font-family=\"Times New Roman,serif\" font-size=\"14.00\">pEC&#45;Tmob18_Lrp_eYFP_p222_229 </text>\r\n",
       "<text text-anchor=\"middle\" x=\"251.93\" y=\"-165.88\" font-family=\"Times New Roman,serif\" font-size=\"14.00\"> Clones obtained: 10 </text>\r\n",
       "<text text-anchor=\"middle\" x=\"251.93\" y=\"-150.88\" font-family=\"Times New Roman,serif\" font-size=\"14.00\"> PCR positive: 4 </text>\r\n",
       "<text text-anchor=\"middle\" x=\"251.93\" y=\"-135.88\" font-family=\"Times New Roman,serif\" font-size=\"14.00\"> SEQ positive: 1</text>\r\n",
       "</g>\r\n",
       "<!-- pEC&#45;Tmob18_Lrp_eYFP_p222_229_1 -->\r\n",
       "<g id=\"node4\" class=\"node\">\r\n",
       "<title>pEC&#45;Tmob18_Lrp_eYFP_p222_229_1</title>\r\n",
       "<ellipse fill=\"none\" stroke=\"chartreuse\" stroke-width=\"4\" cx=\"621.68\" cy=\"-270.08\" rx=\"171.65\" ry=\"26.74\"/>\r\n",
       "<text text-anchor=\"middle\" x=\"621.68\" y=\"-273.88\" font-family=\"Times New Roman,serif\" font-size=\"14.00\">pEC&#45;Tmob18_Lrp_eYFP_p222_229_1 </text>\r\n",
       "<text text-anchor=\"middle\" x=\"621.68\" y=\"-258.88\" font-family=\"Times New Roman,serif\" font-size=\"14.00\"> Storage: Plate 1, Well H1</text>\r\n",
       "</g>\r\n",
       "<!-- pEC&#45;Tmob18_Lrp_eYFP_p222_229&#45;&gt;pEC&#45;Tmob18_Lrp_eYFP_p222_229_1 -->\r\n",
       "<g id=\"edge3\" class=\"edge\">\r\n",
       "<title>pEC&#45;Tmob18_Lrp_eYFP_p222_229&#45;&gt;pEC&#45;Tmob18_Lrp_eYFP_p222_229_1</title>\r\n",
       "<path fill=\"none\" stroke=\"black\" d=\"M349.43,-200.48C381.11,-212.25 416.7,-224.58 449.85,-234.08 466.3,-238.79 483.79,-243.18 501.07,-247.15\"/>\r\n",
       "<polygon fill=\"black\" stroke=\"black\" points=\"500.68,-250.65 511.21,-249.44 502.23,-243.82 500.68,-250.65\"/>\r\n",
       "</g>\r\n",
       "<!-- pEC&#45;Tmob18_Lrp_eYFP_p222_229_2 -->\r\n",
       "<g id=\"node5\" class=\"node\">\r\n",
       "<title>pEC&#45;Tmob18_Lrp_eYFP_p222_229_2</title>\r\n",
       "<ellipse fill=\"none\" stroke=\"chartreuse\" stroke-width=\"4\" cx=\"621.68\" cy=\"-198.08\" rx=\"171.65\" ry=\"26.74\"/>\r\n",
       "<text text-anchor=\"middle\" x=\"621.68\" y=\"-201.88\" font-family=\"Times New Roman,serif\" font-size=\"14.00\">pEC&#45;Tmob18_Lrp_eYFP_p222_229_2 </text>\r\n",
       "<text text-anchor=\"middle\" x=\"621.68\" y=\"-186.88\" font-family=\"Times New Roman,serif\" font-size=\"14.00\"> Storage: Plate 1, Well A2</text>\r\n",
       "</g>\r\n",
       "<!-- pEC&#45;Tmob18_Lrp_eYFP_p222_229&#45;&gt;pEC&#45;Tmob18_Lrp_eYFP_p222_229_2 -->\r\n",
       "<g id=\"edge4\" class=\"edge\">\r\n",
       "<title>pEC&#45;Tmob18_Lrp_eYFP_p222_229&#45;&gt;pEC&#45;Tmob18_Lrp_eYFP_p222_229_2</title>\r\n",
       "<path fill=\"none\" stroke=\"black\" d=\"M405.96,-177.06C425.7,-179 445.93,-180.98 465.7,-182.91\"/>\r\n",
       "<polygon fill=\"black\" stroke=\"black\" points=\"465.38,-186.4 475.67,-183.89 466.06,-179.43 465.38,-186.4\"/>\r\n",
       "</g>\r\n",
       "<!-- pEC&#45;Tmob18_Lrp_eYFP_p222_229_3 -->\r\n",
       "<g id=\"node6\" class=\"node\">\r\n",
       "<title>pEC&#45;Tmob18_Lrp_eYFP_p222_229_3</title>\r\n",
       "<ellipse fill=\"none\" stroke=\"chartreuse\" stroke-width=\"4\" cx=\"621.68\" cy=\"-126.08\" rx=\"171.65\" ry=\"26.74\"/>\r\n",
       "<text text-anchor=\"middle\" x=\"621.68\" y=\"-129.88\" font-family=\"Times New Roman,serif\" font-size=\"14.00\">pEC&#45;Tmob18_Lrp_eYFP_p222_229_3 </text>\r\n",
       "<text text-anchor=\"middle\" x=\"621.68\" y=\"-114.88\" font-family=\"Times New Roman,serif\" font-size=\"14.00\"> Storage: Plate 1, Well B2</text>\r\n",
       "</g>\r\n",
       "<!-- pEC&#45;Tmob18_Lrp_eYFP_p222_229&#45;&gt;pEC&#45;Tmob18_Lrp_eYFP_p222_229_3 -->\r\n",
       "<g id=\"edge5\" class=\"edge\">\r\n",
       "<title>pEC&#45;Tmob18_Lrp_eYFP_p222_229&#45;&gt;pEC&#45;Tmob18_Lrp_eYFP_p222_229_3</title>\r\n",
       "<path fill=\"none\" stroke=\"black\" d=\"M405.96,-147.1C425.7,-145.17 445.93,-143.19 465.7,-141.26\"/>\r\n",
       "<polygon fill=\"black\" stroke=\"black\" points=\"466.06,-144.74 475.67,-140.28 465.38,-137.77 466.06,-144.74\"/>\r\n",
       "</g>\r\n",
       "<!-- pEC&#45;Tmob18_Lrp_eYFP_p222_229_4 -->\r\n",
       "<g id=\"node7\" class=\"node\">\r\n",
       "<title>pEC&#45;Tmob18_Lrp_eYFP_p222_229_4</title>\r\n",
       "<ellipse fill=\"none\" stroke=\"chartreuse\" stroke-width=\"4\" cx=\"621.68\" cy=\"-54.08\" rx=\"171.65\" ry=\"26.74\"/>\r\n",
       "<text text-anchor=\"middle\" x=\"621.68\" y=\"-57.88\" font-family=\"Times New Roman,serif\" font-size=\"14.00\">pEC&#45;Tmob18_Lrp_eYFP_p222_229_4 </text>\r\n",
       "<text text-anchor=\"middle\" x=\"621.68\" y=\"-42.88\" font-family=\"Times New Roman,serif\" font-size=\"14.00\"> Storage: Plate 1, Well C2</text>\r\n",
       "</g>\r\n",
       "<!-- pEC&#45;Tmob18_Lrp_eYFP_p222_229&#45;&gt;pEC&#45;Tmob18_Lrp_eYFP_p222_229_4 -->\r\n",
       "<g id=\"edge6\" class=\"edge\">\r\n",
       "<title>pEC&#45;Tmob18_Lrp_eYFP_p222_229&#45;&gt;pEC&#45;Tmob18_Lrp_eYFP_p222_229_4</title>\r\n",
       "<path fill=\"none\" stroke=\"black\" d=\"M358.41,-125.65C376.95,-118.98 396.01,-111.95 413.85,-105.08 430.03,-98.85 433.3,-95.23 449.85,-90.08 465.7,-85.16 482.59,-80.69 499.34,-76.72\"/>\r\n",
       "<polygon fill=\"black\" stroke=\"black\" points=\"500.23,-80.11 509.18,-74.43 498.64,-73.29 500.23,-80.11\"/>\r\n",
       "</g>\r\n",
       "<!-- 222 -->\r\n",
       "<g id=\"node2\" class=\"node\">\r\n",
       "<title>222</title>\r\n",
       "<ellipse fill=\"none\" stroke=\"chartreuse\" stroke-width=\"4\" cx=\"27\" cy=\"-162.08\" rx=\"27\" ry=\"18\"/>\r\n",
       "<text text-anchor=\"middle\" x=\"27\" y=\"-158.38\" font-family=\"Times New Roman,serif\" font-size=\"14.00\">222</text>\r\n",
       "</g>\r\n",
       "<!-- 222&#45;&gt;pEC&#45;Tmob18_Lrp_eYFP_p222_229 -->\r\n",
       "<g id=\"edge1\" class=\"edge\">\r\n",
       "<title>222&#45;&gt;pEC&#45;Tmob18_Lrp_eYFP_p222_229</title>\r\n",
       "<path fill=\"none\" stroke=\"black\" d=\"M54.01,-162.08C61.43,-162.08 70.1,-162.08 79.61,-162.08\"/>\r\n",
       "<polygon fill=\"black\" stroke=\"black\" points=\"79.79,-165.58 89.79,-162.08 79.79,-158.58 79.79,-165.58\"/>\r\n",
       "</g>\r\n",
       "<!-- 229 -->\r\n",
       "<g id=\"node3\" class=\"node\">\r\n",
       "<title>229</title>\r\n",
       "<ellipse fill=\"none\" stroke=\"chartreuse\" stroke-width=\"4\" cx=\"27\" cy=\"-105.08\" rx=\"27\" ry=\"18\"/>\r\n",
       "<text text-anchor=\"middle\" x=\"27\" y=\"-101.38\" font-family=\"Times New Roman,serif\" font-size=\"14.00\">229</text>\r\n",
       "</g>\r\n",
       "<!-- 229&#45;&gt;pEC&#45;Tmob18_Lrp_eYFP_p222_229 -->\r\n",
       "<g id=\"edge2\" class=\"edge\">\r\n",
       "<title>229&#45;&gt;pEC&#45;Tmob18_Lrp_eYFP_p222_229</title>\r\n",
       "<path fill=\"none\" stroke=\"black\" d=\"M52.71,-111.4C69.65,-115.73 93.58,-121.85 118.98,-128.35\"/>\r\n",
       "<polygon fill=\"black\" stroke=\"black\" points=\"118.22,-131.76 128.78,-130.85 119.96,-124.98 118.22,-131.76\"/>\r\n",
       "</g>\r\n",
       "<!-- pEC&#45;Tmob18_Lrp_eYFP_p223_229 -->\r\n",
       "<g id=\"node8\" class=\"node\">\r\n",
       "<title>pEC&#45;Tmob18_Lrp_eYFP_p223_229</title>\r\n",
       "<ellipse fill=\"none\" stroke=\"black\" cx=\"251.93\" cy=\"-48.08\" rx=\"161.85\" ry=\"48.17\"/>\r\n",
       "<text text-anchor=\"middle\" x=\"251.93\" y=\"-66.88\" font-family=\"Times New Roman,serif\" font-size=\"14.00\">pEC&#45;Tmob18_Lrp_eYFP_p223_229 </text>\r\n",
       "<text text-anchor=\"middle\" x=\"251.93\" y=\"-51.88\" font-family=\"Times New Roman,serif\" font-size=\"14.00\"> Clones obtained: 0 </text>\r\n",
       "<text text-anchor=\"middle\" x=\"251.93\" y=\"-36.88\" font-family=\"Times New Roman,serif\" font-size=\"14.00\"> PCR positive: 0 </text>\r\n",
       "<text text-anchor=\"middle\" x=\"251.93\" y=\"-21.88\" font-family=\"Times New Roman,serif\" font-size=\"14.00\"> SEQ positive: 0</text>\r\n",
       "</g>\r\n",
       "<!-- 229&#45;&gt;pEC&#45;Tmob18_Lrp_eYFP_p223_229 -->\r\n",
       "<g id=\"edge8\" class=\"edge\">\r\n",
       "<title>229&#45;&gt;pEC&#45;Tmob18_Lrp_eYFP_p223_229</title>\r\n",
       "<path fill=\"none\" stroke=\"black\" d=\"M52.71,-98.77C69.65,-94.43 93.58,-88.32 118.98,-81.82\"/>\r\n",
       "<polygon fill=\"black\" stroke=\"black\" points=\"119.96,-85.18 128.78,-79.32 118.22,-78.4 119.96,-85.18\"/>\r\n",
       "</g>\r\n",
       "<!-- 223 -->\r\n",
       "<g id=\"node9\" class=\"node\">\r\n",
       "<title>223</title>\r\n",
       "<ellipse fill=\"none\" stroke=\"black\" cx=\"27\" cy=\"-48.08\" rx=\"27\" ry=\"18\"/>\r\n",
       "<text text-anchor=\"middle\" x=\"27\" y=\"-44.38\" font-family=\"Times New Roman,serif\" font-size=\"14.00\">223</text>\r\n",
       "</g>\r\n",
       "<!-- 223&#45;&gt;pEC&#45;Tmob18_Lrp_eYFP_p223_229 -->\r\n",
       "<g id=\"edge7\" class=\"edge\">\r\n",
       "<title>223&#45;&gt;pEC&#45;Tmob18_Lrp_eYFP_p223_229</title>\r\n",
       "<path fill=\"none\" stroke=\"black\" d=\"M54.01,-48.08C61.43,-48.08 70.1,-48.08 79.61,-48.08\"/>\r\n",
       "<polygon fill=\"black\" stroke=\"black\" points=\"79.79,-51.58 89.79,-48.08 79.79,-44.58 79.79,-51.58\"/>\r\n",
       "</g>\r\n",
       "</g>\r\n",
       "</svg>\r\n"
      ],
      "text/plain": [
       "<graphviz.dot.Digraph at 0x18bcb1bcfd0>"
      ]
     },
     "execution_count": 19,
     "metadata": {},
     "output_type": "execute_result"
    }
   ],
   "source": [
    "tp_graph = tp.create_dag(\n",
    "    include_properties=['primerA', 'primerB'],\n",
    "    include_constructs=['pEC-Tmob18_Lrp_eYFP_p222_229', 'pEC-Tmob18_Lrp_eYFP_p223_229'],\n",
    ")\n",
    "tp_graph"
   ]
  },
  {
   "cell_type": "code",
   "execution_count": 20,
   "metadata": {},
   "outputs": [
    {
     "data": {
      "image/svg+xml": [
       "<?xml version=\"1.0\" encoding=\"UTF-8\" standalone=\"no\"?>\r\n",
       "<!DOCTYPE svg PUBLIC \"-//W3C//DTD SVG 1.1//EN\"\r\n",
       " \"http://www.w3.org/Graphics/SVG/1.1/DTD/svg11.dtd\">\r\n",
       "<!-- Generated by graphviz version 2.44.1 (20200629.0846)\r\n",
       " -->\r\n",
       "<!-- Pages: 1 -->\r\n",
       "<svg width=\"1185pt\" height=\"205pt\"\r\n",
       " viewBox=\"0.00 0.00 1185.14 205.35\" xmlns=\"http://www.w3.org/2000/svg\" xmlns:xlink=\"http://www.w3.org/1999/xlink\">\r\n",
       "<g id=\"graph0\" class=\"graph\" transform=\"scale(1 1) rotate(0) translate(4 201.35)\">\r\n",
       "<polygon fill=\"white\" stroke=\"transparent\" points=\"-4,4 -4,-201.35 1181.14,-201.35 1181.14,4 -4,4\"/>\r\n",
       "<!-- pEC&#45;Tmob18_Lrp_eYFP_p224_234 -->\r\n",
       "<g id=\"node1\" class=\"node\">\r\n",
       "<title>pEC&#45;Tmob18_Lrp_eYFP_p224_234</title>\r\n",
       "<ellipse fill=\"none\" stroke=\"chartreuse\" stroke-width=\"4\" cx=\"236.24\" cy=\"-134.48\" rx=\"146.47\" ry=\"18\"/>\r\n",
       "<text text-anchor=\"middle\" x=\"236.24\" y=\"-130.78\" font-family=\"Times New Roman,serif\" font-size=\"14.00\">pEC&#45;Tmob18_Lrp_eYFP_p224_234</text>\r\n",
       "</g>\r\n",
       "<!-- Conjugation_pEC&#45;Tmob18_Lrp_eYFP_p224_234 -->\r\n",
       "<g id=\"node2\" class=\"node\">\r\n",
       "<title>Conjugation_pEC&#45;Tmob18_Lrp_eYFP_p224_234</title>\r\n",
       "<ellipse fill=\"none\" stroke=\"chartreuse\" stroke-width=\"4\" cx=\"583.23\" cy=\"-134.48\" rx=\"164.51\" ry=\"37.45\"/>\r\n",
       "<text text-anchor=\"middle\" x=\"583.23\" y=\"-145.78\" font-family=\"Times New Roman,serif\" font-size=\"14.00\">Conjugation </text>\r\n",
       "<text text-anchor=\"middle\" x=\"583.23\" y=\"-130.78\" font-family=\"Times New Roman,serif\" font-size=\"14.00\"> pEC&#45;Tmob18_Lrp_eYFP_p224_234 </text>\r\n",
       "<text text-anchor=\"middle\" x=\"583.23\" y=\"-115.78\" font-family=\"Times New Roman,serif\" font-size=\"14.00\"> Clones: 8, Growth positive: 2</text>\r\n",
       "</g>\r\n",
       "<!-- pEC&#45;Tmob18_Lrp_eYFP_p224_234&#45;&gt;Conjugation_pEC&#45;Tmob18_Lrp_eYFP_p224_234 -->\r\n",
       "<g id=\"edge1\" class=\"edge\">\r\n",
       "<title>pEC&#45;Tmob18_Lrp_eYFP_p224_234&#45;&gt;Conjugation_pEC&#45;Tmob18_Lrp_eYFP_p224_234</title>\r\n",
       "<path fill=\"none\" stroke=\"black\" d=\"M382.55,-134.48C391.02,-134.48 399.58,-134.48 408.14,-134.48\"/>\r\n",
       "<polygon fill=\"black\" stroke=\"black\" points=\"408.2,-137.98 418.2,-134.48 408.2,-130.98 408.2,-137.98\"/>\r\n",
       "</g>\r\n",
       "<!-- pEC&#45;Tmob18_Lrp_eYFP_p224_234_Conj_1 -->\r\n",
       "<g id=\"node5\" class=\"node\">\r\n",
       "<title>pEC&#45;Tmob18_Lrp_eYFP_p224_234_Conj_1</title>\r\n",
       "<ellipse fill=\"none\" stroke=\"chartreuse\" stroke-width=\"4\" cx=\"980.56\" cy=\"-170.48\" rx=\"196.65\" ry=\"26.74\"/>\r\n",
       "<text text-anchor=\"middle\" x=\"980.56\" y=\"-174.28\" font-family=\"Times New Roman,serif\" font-size=\"14.00\">pEC&#45;Tmob18_Lrp_eYFP_p224_234_Conj_1 </text>\r\n",
       "<text text-anchor=\"middle\" x=\"980.56\" y=\"-159.28\" font-family=\"Times New Roman,serif\" font-size=\"14.00\"> Storage: Plate 1, Well F4</text>\r\n",
       "</g>\r\n",
       "<!-- Conjugation_pEC&#45;Tmob18_Lrp_eYFP_p224_234&#45;&gt;pEC&#45;Tmob18_Lrp_eYFP_p224_234_Conj_1 -->\r\n",
       "<g id=\"edge4\" class=\"edge\">\r\n",
       "<title>Conjugation_pEC&#45;Tmob18_Lrp_eYFP_p224_234&#45;&gt;pEC&#45;Tmob18_Lrp_eYFP_p224_234_Conj_1</title>\r\n",
       "<path fill=\"none\" stroke=\"black\" d=\"M736.51,-148.34C759.44,-150.43 783.24,-152.6 806.57,-154.72\"/>\r\n",
       "<polygon fill=\"black\" stroke=\"black\" points=\"806.26,-158.21 816.54,-155.63 806.89,-151.24 806.26,-158.21\"/>\r\n",
       "</g>\r\n",
       "<!-- pEC&#45;Tmob18_Lrp_eYFP_p224_234_Conj_2 -->\r\n",
       "<g id=\"node6\" class=\"node\">\r\n",
       "<title>pEC&#45;Tmob18_Lrp_eYFP_p224_234_Conj_2</title>\r\n",
       "<ellipse fill=\"none\" stroke=\"chartreuse\" stroke-width=\"4\" cx=\"980.56\" cy=\"-98.48\" rx=\"196.65\" ry=\"26.74\"/>\r\n",
       "<text text-anchor=\"middle\" x=\"980.56\" y=\"-102.28\" font-family=\"Times New Roman,serif\" font-size=\"14.00\">pEC&#45;Tmob18_Lrp_eYFP_p224_234_Conj_2 </text>\r\n",
       "<text text-anchor=\"middle\" x=\"980.56\" y=\"-87.28\" font-family=\"Times New Roman,serif\" font-size=\"14.00\"> Storage: Plate 1, Well G4</text>\r\n",
       "</g>\r\n",
       "<!-- Conjugation_pEC&#45;Tmob18_Lrp_eYFP_p224_234&#45;&gt;pEC&#45;Tmob18_Lrp_eYFP_p224_234_Conj_2 -->\r\n",
       "<g id=\"edge5\" class=\"edge\">\r\n",
       "<title>Conjugation_pEC&#45;Tmob18_Lrp_eYFP_p224_234&#45;&gt;pEC&#45;Tmob18_Lrp_eYFP_p224_234_Conj_2</title>\r\n",
       "<path fill=\"none\" stroke=\"black\" d=\"M736.51,-120.61C759.44,-118.52 783.24,-116.35 806.57,-114.23\"/>\r\n",
       "<polygon fill=\"black\" stroke=\"black\" points=\"806.89,-117.71 816.54,-113.32 806.26,-110.74 806.89,-117.71\"/>\r\n",
       "</g>\r\n",
       "<!-- 224 -->\r\n",
       "<g id=\"node3\" class=\"node\">\r\n",
       "<title>224</title>\r\n",
       "<ellipse fill=\"none\" stroke=\"chartreuse\" stroke-width=\"4\" cx=\"27\" cy=\"-84.48\" rx=\"27\" ry=\"18\"/>\r\n",
       "<text text-anchor=\"middle\" x=\"27\" y=\"-80.78\" font-family=\"Times New Roman,serif\" font-size=\"14.00\">224</text>\r\n",
       "</g>\r\n",
       "<!-- 224&#45;&gt;pEC&#45;Tmob18_Lrp_eYFP_p224_234 -->\r\n",
       "<g id=\"edge2\" class=\"edge\">\r\n",
       "<title>224&#45;&gt;pEC&#45;Tmob18_Lrp_eYFP_p224_234</title>\r\n",
       "<path fill=\"none\" stroke=\"black\" d=\"M52.59,-90.41C78.67,-96.7 121.2,-106.96 158.66,-116\"/>\r\n",
       "<polygon fill=\"black\" stroke=\"black\" points=\"158.02,-119.45 168.56,-118.39 159.66,-112.64 158.02,-119.45\"/>\r\n",
       "</g>\r\n",
       "<!-- pEC&#45;Tmob18_Lrp_eYFP_p224_237 -->\r\n",
       "<g id=\"node7\" class=\"node\">\r\n",
       "<title>pEC&#45;Tmob18_Lrp_eYFP_p224_237</title>\r\n",
       "<ellipse fill=\"none\" stroke=\"black\" cx=\"236.24\" cy=\"-37.48\" rx=\"146.47\" ry=\"18\"/>\r\n",
       "<text text-anchor=\"middle\" x=\"236.24\" y=\"-33.78\" font-family=\"Times New Roman,serif\" font-size=\"14.00\">pEC&#45;Tmob18_Lrp_eYFP_p224_237</text>\r\n",
       "</g>\r\n",
       "<!-- 224&#45;&gt;pEC&#45;Tmob18_Lrp_eYFP_p224_237 -->\r\n",
       "<g id=\"edge7\" class=\"edge\">\r\n",
       "<title>224&#45;&gt;pEC&#45;Tmob18_Lrp_eYFP_p224_237</title>\r\n",
       "<path fill=\"none\" stroke=\"black\" d=\"M53,-78.81C78.39,-73.05 119.05,-63.83 155.53,-55.55\"/>\r\n",
       "<polygon fill=\"black\" stroke=\"black\" points=\"156.71,-58.87 165.69,-53.25 155.17,-52.05 156.71,-58.87\"/>\r\n",
       "</g>\r\n",
       "<!-- 234 -->\r\n",
       "<g id=\"node4\" class=\"node\">\r\n",
       "<title>234</title>\r\n",
       "<ellipse fill=\"none\" stroke=\"chartreuse\" stroke-width=\"4\" cx=\"27\" cy=\"-138.48\" rx=\"27\" ry=\"18\"/>\r\n",
       "<text text-anchor=\"middle\" x=\"27\" y=\"-134.78\" font-family=\"Times New Roman,serif\" font-size=\"14.00\">234</text>\r\n",
       "</g>\r\n",
       "<!-- 234&#45;&gt;pEC&#45;Tmob18_Lrp_eYFP_p224_234 -->\r\n",
       "<g id=\"edge3\" class=\"edge\">\r\n",
       "<title>234&#45;&gt;pEC&#45;Tmob18_Lrp_eYFP_p224_234</title>\r\n",
       "<path fill=\"none\" stroke=\"black\" d=\"M54.25,-137.97C62.09,-137.82 71.3,-137.64 81.35,-137.45\"/>\r\n",
       "<polygon fill=\"black\" stroke=\"black\" points=\"81.73,-140.94 91.66,-137.25 81.59,-133.94 81.73,-140.94\"/>\r\n",
       "</g>\r\n",
       "<!-- Conjugation_pEC&#45;Tmob18_Lrp_eYFP_p224_237 -->\r\n",
       "<g id=\"node8\" class=\"node\">\r\n",
       "<title>Conjugation_pEC&#45;Tmob18_Lrp_eYFP_p224_237</title>\r\n",
       "<ellipse fill=\"none\" stroke=\"black\" cx=\"583.23\" cy=\"-37.48\" rx=\"164.51\" ry=\"37.45\"/>\r\n",
       "<text text-anchor=\"middle\" x=\"583.23\" y=\"-48.78\" font-family=\"Times New Roman,serif\" font-size=\"14.00\">Conjugation </text>\r\n",
       "<text text-anchor=\"middle\" x=\"583.23\" y=\"-33.78\" font-family=\"Times New Roman,serif\" font-size=\"14.00\"> pEC&#45;Tmob18_Lrp_eYFP_p224_237 </text>\r\n",
       "<text text-anchor=\"middle\" x=\"583.23\" y=\"-18.78\" font-family=\"Times New Roman,serif\" font-size=\"14.00\"> Clones: 8, Growth positive: 0</text>\r\n",
       "</g>\r\n",
       "<!-- pEC&#45;Tmob18_Lrp_eYFP_p224_237&#45;&gt;Conjugation_pEC&#45;Tmob18_Lrp_eYFP_p224_237 -->\r\n",
       "<g id=\"edge6\" class=\"edge\">\r\n",
       "<title>pEC&#45;Tmob18_Lrp_eYFP_p224_237&#45;&gt;Conjugation_pEC&#45;Tmob18_Lrp_eYFP_p224_237</title>\r\n",
       "<path fill=\"none\" stroke=\"black\" d=\"M382.55,-37.48C391.02,-37.48 399.58,-37.48 408.14,-37.48\"/>\r\n",
       "<polygon fill=\"black\" stroke=\"black\" points=\"408.2,-40.98 418.2,-37.48 408.2,-33.98 408.2,-40.98\"/>\r\n",
       "</g>\r\n",
       "<!-- 237 -->\r\n",
       "<g id=\"node9\" class=\"node\">\r\n",
       "<title>237</title>\r\n",
       "<ellipse fill=\"none\" stroke=\"black\" cx=\"27\" cy=\"-30.48\" rx=\"27\" ry=\"18\"/>\r\n",
       "<text text-anchor=\"middle\" x=\"27\" y=\"-26.78\" font-family=\"Times New Roman,serif\" font-size=\"14.00\">237</text>\r\n",
       "</g>\r\n",
       "<!-- 237&#45;&gt;pEC&#45;Tmob18_Lrp_eYFP_p224_237 -->\r\n",
       "<g id=\"edge8\" class=\"edge\">\r\n",
       "<title>237&#45;&gt;pEC&#45;Tmob18_Lrp_eYFP_p224_237</title>\r\n",
       "<path fill=\"none\" stroke=\"black\" d=\"M54.25,-31.36C62.92,-31.66 73.28,-32.01 84.59,-32.39\"/>\r\n",
       "<polygon fill=\"black\" stroke=\"black\" points=\"84.64,-35.89 94.75,-32.73 84.87,-28.9 84.64,-35.89\"/>\r\n",
       "</g>\r\n",
       "</g>\r\n",
       "</svg>\r\n"
      ],
      "text/plain": [
       "<graphviz.dot.Digraph at 0x18bcb5e0610>"
      ]
     },
     "execution_count": 20,
     "metadata": {},
     "output_type": "execute_result"
    }
   ],
   "source": [
    "cp_graph = cp.create_dag(\n",
    "    include_properties=['primerA', 'primerB'],\n",
    "    include_constructs=['pEC-Tmob18_Lrp_eYFP_p224_237', 'pEC-Tmob18_Lrp_eYFP_p224_234'],\n",
    ")\n",
    "cp_graph"
   ]
  },
  {
   "cell_type": "markdown",
   "metadata": {},
   "source": [
    "Finally, we do some clean-up for the next run. Do not execute this cell if you want to have a look at the template files."
   ]
  },
  {
   "cell_type": "code",
   "execution_count": 21,
   "metadata": {},
   "outputs": [],
   "source": [
    "for f in pathlib.Path('templates').glob('*_template.xlsx'):\n",
    "    f.unlink()"
   ]
  }
 ],
 "metadata": {
  "kernelspec": {
   "display_name": "Python 3",
   "language": "python",
   "name": "python3"
  },
  "language_info": {
   "codemirror_mode": {
    "name": "ipython",
    "version": 3
   },
   "file_extension": ".py",
   "mimetype": "text/x-python",
   "name": "python",
   "nbconvert_exporter": "python",
   "pygments_lexer": "ipython3",
   "version": "3.8.5"
  }
 },
 "nbformat": 4,
 "nbformat_minor": 4
}
